{
  "nbformat": 4,
  "nbformat_minor": 0,
  "metadata": {
    "colab": {
      "name": "10 minutes to pandas.ipynb",
      "provenance": [],
      "collapsed_sections": []
    },
    "kernelspec": {
      "name": "python3",
      "display_name": "Python 3"
    }
  },
  "cells": [
    {
      "cell_type": "code",
      "metadata": {
        "id": "Pt9LZkhnWVH_",
        "outputId": "5b7942f0-594f-4050-c4c7-aa10fcd70ac9",
        "colab": {
          "base_uri": "https://localhost:8080/",
          "height": 136
        }
      },
      "source": [
        "import numpy as np\n",
        "\n",
        "import pandas as pd\n",
        "\n",
        "s = pd.Series([1, 3, 5, np.nan, 6, 8])\n",
        "\n",
        "s"
      ],
      "execution_count": 3,
      "outputs": [
        {
          "output_type": "execute_result",
          "data": {
            "text/plain": [
              "0    1.0\n",
              "1    3.0\n",
              "2    5.0\n",
              "3    NaN\n",
              "4    6.0\n",
              "5    8.0\n",
              "dtype: float64"
            ]
          },
          "metadata": {
            "tags": []
          },
          "execution_count": 3
        }
      ]
    },
    {
      "cell_type": "code",
      "metadata": {
        "id": "SLvw_gmyajy2",
        "outputId": "908a9de8-d79d-45fa-eaad-d33511f1d556",
        "colab": {
          "base_uri": "https://localhost:8080/",
          "height": 235
        }
      },
      "source": [
        "dates = pd.date_range('20130101', periods=6)\n",
        "\n",
        "dates\n",
        "df = pd.DataFrame(np.random.randn(6, 4), index=dates, columns=list('ABCD'))\n",
        "\n",
        "df"
      ],
      "execution_count": 4,
      "outputs": [
        {
          "output_type": "execute_result",
          "data": {
            "text/html": [
              "<div>\n",
              "<style scoped>\n",
              "    .dataframe tbody tr th:only-of-type {\n",
              "        vertical-align: middle;\n",
              "    }\n",
              "\n",
              "    .dataframe tbody tr th {\n",
              "        vertical-align: top;\n",
              "    }\n",
              "\n",
              "    .dataframe thead th {\n",
              "        text-align: right;\n",
              "    }\n",
              "</style>\n",
              "<table border=\"1\" class=\"dataframe\">\n",
              "  <thead>\n",
              "    <tr style=\"text-align: right;\">\n",
              "      <th></th>\n",
              "      <th>A</th>\n",
              "      <th>B</th>\n",
              "      <th>C</th>\n",
              "      <th>D</th>\n",
              "    </tr>\n",
              "  </thead>\n",
              "  <tbody>\n",
              "    <tr>\n",
              "      <th>2013-01-01</th>\n",
              "      <td>-1.895350</td>\n",
              "      <td>-1.409410</td>\n",
              "      <td>0.066747</td>\n",
              "      <td>0.534467</td>\n",
              "    </tr>\n",
              "    <tr>\n",
              "      <th>2013-01-02</th>\n",
              "      <td>-0.158133</td>\n",
              "      <td>-0.755161</td>\n",
              "      <td>0.674431</td>\n",
              "      <td>1.095966</td>\n",
              "    </tr>\n",
              "    <tr>\n",
              "      <th>2013-01-03</th>\n",
              "      <td>1.625289</td>\n",
              "      <td>0.705395</td>\n",
              "      <td>2.319068</td>\n",
              "      <td>-1.227825</td>\n",
              "    </tr>\n",
              "    <tr>\n",
              "      <th>2013-01-04</th>\n",
              "      <td>0.372872</td>\n",
              "      <td>0.613411</td>\n",
              "      <td>-1.225106</td>\n",
              "      <td>1.124325</td>\n",
              "    </tr>\n",
              "    <tr>\n",
              "      <th>2013-01-05</th>\n",
              "      <td>0.803751</td>\n",
              "      <td>0.994333</td>\n",
              "      <td>-0.000584</td>\n",
              "      <td>-0.587496</td>\n",
              "    </tr>\n",
              "    <tr>\n",
              "      <th>2013-01-06</th>\n",
              "      <td>-0.966359</td>\n",
              "      <td>-1.414002</td>\n",
              "      <td>-0.522122</td>\n",
              "      <td>-0.526534</td>\n",
              "    </tr>\n",
              "  </tbody>\n",
              "</table>\n",
              "</div>"
            ],
            "text/plain": [
              "                   A         B         C         D\n",
              "2013-01-01 -1.895350 -1.409410  0.066747  0.534467\n",
              "2013-01-02 -0.158133 -0.755161  0.674431  1.095966\n",
              "2013-01-03  1.625289  0.705395  2.319068 -1.227825\n",
              "2013-01-04  0.372872  0.613411 -1.225106  1.124325\n",
              "2013-01-05  0.803751  0.994333 -0.000584 -0.587496\n",
              "2013-01-06 -0.966359 -1.414002 -0.522122 -0.526534"
            ]
          },
          "metadata": {
            "tags": []
          },
          "execution_count": 4
        }
      ]
    },
    {
      "cell_type": "code",
      "metadata": {
        "id": "SINO_w_bawpF",
        "outputId": "927dc9b2-bf24-49c7-e3b6-36939463552f",
        "colab": {
          "base_uri": "https://localhost:8080/",
          "height": 136
        }
      },
      "source": [
        "df2 = pd.DataFrame({'A': 1.,\n",
        "   ...:                     'B': pd.Timestamp('20130102'),\n",
        "   ...:                     'C': pd.Series(1, index=list(range(4)), dtype='float32'),\n",
        "   ...:                     'D': np.array([3] * 4, dtype='int32'),\n",
        "   ...:                     'E': pd.Categorical([\"test\", \"train\", \"test\", \"train\"]),\n",
        "   ...:                     'F': 'foo'})\n",
        "   ...: \n",
        "\n",
        "In [10]: df2\n",
        "df2\n",
        "df2.dtypes"
      ],
      "execution_count": 5,
      "outputs": [
        {
          "output_type": "execute_result",
          "data": {
            "text/plain": [
              "A           float64\n",
              "B    datetime64[ns]\n",
              "C           float32\n",
              "D             int32\n",
              "E          category\n",
              "F            object\n",
              "dtype: object"
            ]
          },
          "metadata": {
            "tags": []
          },
          "execution_count": 5
        }
      ]
    },
    {
      "cell_type": "code",
      "metadata": {
        "id": "0xYR44uw5JzU",
        "outputId": "8ed6094e-bed3-4653-faad-d98115cca1ac",
        "colab": {
          "base_uri": "https://localhost:8080/",
          "height": 204
        }
      },
      "source": [
        " df.head()"
      ],
      "execution_count": 6,
      "outputs": [
        {
          "output_type": "execute_result",
          "data": {
            "text/html": [
              "<div>\n",
              "<style scoped>\n",
              "    .dataframe tbody tr th:only-of-type {\n",
              "        vertical-align: middle;\n",
              "    }\n",
              "\n",
              "    .dataframe tbody tr th {\n",
              "        vertical-align: top;\n",
              "    }\n",
              "\n",
              "    .dataframe thead th {\n",
              "        text-align: right;\n",
              "    }\n",
              "</style>\n",
              "<table border=\"1\" class=\"dataframe\">\n",
              "  <thead>\n",
              "    <tr style=\"text-align: right;\">\n",
              "      <th></th>\n",
              "      <th>A</th>\n",
              "      <th>B</th>\n",
              "      <th>C</th>\n",
              "      <th>D</th>\n",
              "    </tr>\n",
              "  </thead>\n",
              "  <tbody>\n",
              "    <tr>\n",
              "      <th>2013-01-01</th>\n",
              "      <td>-1.895350</td>\n",
              "      <td>-1.409410</td>\n",
              "      <td>0.066747</td>\n",
              "      <td>0.534467</td>\n",
              "    </tr>\n",
              "    <tr>\n",
              "      <th>2013-01-02</th>\n",
              "      <td>-0.158133</td>\n",
              "      <td>-0.755161</td>\n",
              "      <td>0.674431</td>\n",
              "      <td>1.095966</td>\n",
              "    </tr>\n",
              "    <tr>\n",
              "      <th>2013-01-03</th>\n",
              "      <td>1.625289</td>\n",
              "      <td>0.705395</td>\n",
              "      <td>2.319068</td>\n",
              "      <td>-1.227825</td>\n",
              "    </tr>\n",
              "    <tr>\n",
              "      <th>2013-01-04</th>\n",
              "      <td>0.372872</td>\n",
              "      <td>0.613411</td>\n",
              "      <td>-1.225106</td>\n",
              "      <td>1.124325</td>\n",
              "    </tr>\n",
              "    <tr>\n",
              "      <th>2013-01-05</th>\n",
              "      <td>0.803751</td>\n",
              "      <td>0.994333</td>\n",
              "      <td>-0.000584</td>\n",
              "      <td>-0.587496</td>\n",
              "    </tr>\n",
              "  </tbody>\n",
              "</table>\n",
              "</div>"
            ],
            "text/plain": [
              "                   A         B         C         D\n",
              "2013-01-01 -1.895350 -1.409410  0.066747  0.534467\n",
              "2013-01-02 -0.158133 -0.755161  0.674431  1.095966\n",
              "2013-01-03  1.625289  0.705395  2.319068 -1.227825\n",
              "2013-01-04  0.372872  0.613411 -1.225106  1.124325\n",
              "2013-01-05  0.803751  0.994333 -0.000584 -0.587496"
            ]
          },
          "metadata": {
            "tags": []
          },
          "execution_count": 6
        }
      ]
    },
    {
      "cell_type": "code",
      "metadata": {
        "id": "erfwwDLq6DaN",
        "outputId": "138d9735-d97a-4358-d730-993095127abd",
        "colab": {
          "base_uri": "https://localhost:8080/",
          "height": 142
        }
      },
      "source": [
        "df.tail(3)"
      ],
      "execution_count": 7,
      "outputs": [
        {
          "output_type": "execute_result",
          "data": {
            "text/html": [
              "<div>\n",
              "<style scoped>\n",
              "    .dataframe tbody tr th:only-of-type {\n",
              "        vertical-align: middle;\n",
              "    }\n",
              "\n",
              "    .dataframe tbody tr th {\n",
              "        vertical-align: top;\n",
              "    }\n",
              "\n",
              "    .dataframe thead th {\n",
              "        text-align: right;\n",
              "    }\n",
              "</style>\n",
              "<table border=\"1\" class=\"dataframe\">\n",
              "  <thead>\n",
              "    <tr style=\"text-align: right;\">\n",
              "      <th></th>\n",
              "      <th>A</th>\n",
              "      <th>B</th>\n",
              "      <th>C</th>\n",
              "      <th>D</th>\n",
              "    </tr>\n",
              "  </thead>\n",
              "  <tbody>\n",
              "    <tr>\n",
              "      <th>2013-01-04</th>\n",
              "      <td>0.372872</td>\n",
              "      <td>0.613411</td>\n",
              "      <td>-1.225106</td>\n",
              "      <td>1.124325</td>\n",
              "    </tr>\n",
              "    <tr>\n",
              "      <th>2013-01-05</th>\n",
              "      <td>0.803751</td>\n",
              "      <td>0.994333</td>\n",
              "      <td>-0.000584</td>\n",
              "      <td>-0.587496</td>\n",
              "    </tr>\n",
              "    <tr>\n",
              "      <th>2013-01-06</th>\n",
              "      <td>-0.966359</td>\n",
              "      <td>-1.414002</td>\n",
              "      <td>-0.522122</td>\n",
              "      <td>-0.526534</td>\n",
              "    </tr>\n",
              "  </tbody>\n",
              "</table>\n",
              "</div>"
            ],
            "text/plain": [
              "                   A         B         C         D\n",
              "2013-01-04  0.372872  0.613411 -1.225106  1.124325\n",
              "2013-01-05  0.803751  0.994333 -0.000584 -0.587496\n",
              "2013-01-06 -0.966359 -1.414002 -0.522122 -0.526534"
            ]
          },
          "metadata": {
            "tags": []
          },
          "execution_count": 7
        }
      ]
    },
    {
      "cell_type": "code",
      "metadata": {
        "id": "uCNu6qt96GQr",
        "outputId": "d850b2a6-710f-4e91-f659-21152dc78976",
        "colab": {
          "base_uri": "https://localhost:8080/",
          "height": 68
        }
      },
      "source": [
        "df.index"
      ],
      "execution_count": 8,
      "outputs": [
        {
          "output_type": "execute_result",
          "data": {
            "text/plain": [
              "DatetimeIndex(['2013-01-01', '2013-01-02', '2013-01-03', '2013-01-04',\n",
              "               '2013-01-05', '2013-01-06'],\n",
              "              dtype='datetime64[ns]', freq='D')"
            ]
          },
          "metadata": {
            "tags": []
          },
          "execution_count": 8
        }
      ]
    },
    {
      "cell_type": "code",
      "metadata": {
        "id": "9sGtB4iz6KpF",
        "outputId": "c020f0d5-76d0-413b-cda3-a7bbddf1c0f2",
        "colab": {
          "base_uri": "https://localhost:8080/",
          "height": 34
        }
      },
      "source": [
        "df.columns"
      ],
      "execution_count": 9,
      "outputs": [
        {
          "output_type": "execute_result",
          "data": {
            "text/plain": [
              "Index(['A', 'B', 'C', 'D'], dtype='object')"
            ]
          },
          "metadata": {
            "tags": []
          },
          "execution_count": 9
        }
      ]
    },
    {
      "cell_type": "code",
      "metadata": {
        "id": "7zww4w7y6N3P",
        "outputId": "3e997b0f-b0ec-4ada-c4d1-b441fc7ee62f",
        "colab": {
          "base_uri": "https://localhost:8080/",
          "height": 221
        }
      },
      "source": [
        "df.to_numpy()"
      ],
      "execution_count": 10,
      "outputs": [
        {
          "output_type": "execute_result",
          "data": {
            "text/plain": [
              "array([[-1.89535010e+00, -1.40941041e+00,  6.67465559e-02,\n",
              "         5.34467382e-01],\n",
              "       [-1.58132516e-01, -7.55160803e-01,  6.74431023e-01,\n",
              "         1.09596641e+00],\n",
              "       [ 1.62528929e+00,  7.05394741e-01,  2.31906821e+00,\n",
              "        -1.22782530e+00],\n",
              "       [ 3.72871958e-01,  6.13410875e-01, -1.22510609e+00,\n",
              "         1.12432518e+00],\n",
              "       [ 8.03751376e-01,  9.94332651e-01, -5.84090650e-04,\n",
              "        -5.87495646e-01],\n",
              "       [-9.66359404e-01, -1.41400212e+00, -5.22121615e-01,\n",
              "        -5.26533663e-01]])"
            ]
          },
          "metadata": {
            "tags": []
          },
          "execution_count": 10
        }
      ]
    },
    {
      "cell_type": "code",
      "metadata": {
        "id": "6Y-Rk35z6R2t",
        "outputId": "497fe22b-ae87-4105-b1a3-6003688d4abf",
        "colab": {
          "base_uri": "https://localhost:8080/",
          "height": 102
        }
      },
      "source": [
        "df2.to_numpy()"
      ],
      "execution_count": 11,
      "outputs": [
        {
          "output_type": "execute_result",
          "data": {
            "text/plain": [
              "array([[1.0, Timestamp('2013-01-02 00:00:00'), 1.0, 3, 'test', 'foo'],\n",
              "       [1.0, Timestamp('2013-01-02 00:00:00'), 1.0, 3, 'train', 'foo'],\n",
              "       [1.0, Timestamp('2013-01-02 00:00:00'), 1.0, 3, 'test', 'foo'],\n",
              "       [1.0, Timestamp('2013-01-02 00:00:00'), 1.0, 3, 'train', 'foo']],\n",
              "      dtype=object)"
            ]
          },
          "metadata": {
            "tags": []
          },
          "execution_count": 11
        }
      ]
    },
    {
      "cell_type": "code",
      "metadata": {
        "id": "SD2Ll61l6WUY",
        "outputId": "acdaa16f-b696-4929-8960-ccd57ff64ccc",
        "colab": {
          "base_uri": "https://localhost:8080/",
          "height": 297
        }
      },
      "source": [
        "df.describe()"
      ],
      "execution_count": 12,
      "outputs": [
        {
          "output_type": "execute_result",
          "data": {
            "text/html": [
              "<div>\n",
              "<style scoped>\n",
              "    .dataframe tbody tr th:only-of-type {\n",
              "        vertical-align: middle;\n",
              "    }\n",
              "\n",
              "    .dataframe tbody tr th {\n",
              "        vertical-align: top;\n",
              "    }\n",
              "\n",
              "    .dataframe thead th {\n",
              "        text-align: right;\n",
              "    }\n",
              "</style>\n",
              "<table border=\"1\" class=\"dataframe\">\n",
              "  <thead>\n",
              "    <tr style=\"text-align: right;\">\n",
              "      <th></th>\n",
              "      <th>A</th>\n",
              "      <th>B</th>\n",
              "      <th>C</th>\n",
              "      <th>D</th>\n",
              "    </tr>\n",
              "  </thead>\n",
              "  <tbody>\n",
              "    <tr>\n",
              "      <th>count</th>\n",
              "      <td>6.000000</td>\n",
              "      <td>6.000000</td>\n",
              "      <td>6.000000</td>\n",
              "      <td>6.000000</td>\n",
              "    </tr>\n",
              "    <tr>\n",
              "      <th>mean</th>\n",
              "      <td>-0.036322</td>\n",
              "      <td>-0.210906</td>\n",
              "      <td>0.218739</td>\n",
              "      <td>0.068817</td>\n",
              "    </tr>\n",
              "    <tr>\n",
              "      <th>std</th>\n",
              "      <td>1.262530</td>\n",
              "      <td>1.109213</td>\n",
              "      <td>1.210273</td>\n",
              "      <td>0.985133</td>\n",
              "    </tr>\n",
              "    <tr>\n",
              "      <th>min</th>\n",
              "      <td>-1.895350</td>\n",
              "      <td>-1.414002</td>\n",
              "      <td>-1.225106</td>\n",
              "      <td>-1.227825</td>\n",
              "    </tr>\n",
              "    <tr>\n",
              "      <th>25%</th>\n",
              "      <td>-0.764303</td>\n",
              "      <td>-1.245848</td>\n",
              "      <td>-0.391737</td>\n",
              "      <td>-0.572255</td>\n",
              "    </tr>\n",
              "    <tr>\n",
              "      <th>50%</th>\n",
              "      <td>0.107370</td>\n",
              "      <td>-0.070875</td>\n",
              "      <td>0.033081</td>\n",
              "      <td>0.003967</td>\n",
              "    </tr>\n",
              "    <tr>\n",
              "      <th>75%</th>\n",
              "      <td>0.696032</td>\n",
              "      <td>0.682399</td>\n",
              "      <td>0.522510</td>\n",
              "      <td>0.955592</td>\n",
              "    </tr>\n",
              "    <tr>\n",
              "      <th>max</th>\n",
              "      <td>1.625289</td>\n",
              "      <td>0.994333</td>\n",
              "      <td>2.319068</td>\n",
              "      <td>1.124325</td>\n",
              "    </tr>\n",
              "  </tbody>\n",
              "</table>\n",
              "</div>"
            ],
            "text/plain": [
              "              A         B         C         D\n",
              "count  6.000000  6.000000  6.000000  6.000000\n",
              "mean  -0.036322 -0.210906  0.218739  0.068817\n",
              "std    1.262530  1.109213  1.210273  0.985133\n",
              "min   -1.895350 -1.414002 -1.225106 -1.227825\n",
              "25%   -0.764303 -1.245848 -0.391737 -0.572255\n",
              "50%    0.107370 -0.070875  0.033081  0.003967\n",
              "75%    0.696032  0.682399  0.522510  0.955592\n",
              "max    1.625289  0.994333  2.319068  1.124325"
            ]
          },
          "metadata": {
            "tags": []
          },
          "execution_count": 12
        }
      ]
    },
    {
      "cell_type": "code",
      "metadata": {
        "id": "Xqtnc9-t6YcR",
        "outputId": "ee2e3428-3eac-4270-9584-79407bfd3a0c",
        "colab": {
          "base_uri": "https://localhost:8080/",
          "height": 173
        }
      },
      "source": [
        "df.T"
      ],
      "execution_count": 13,
      "outputs": [
        {
          "output_type": "execute_result",
          "data": {
            "text/html": [
              "<div>\n",
              "<style scoped>\n",
              "    .dataframe tbody tr th:only-of-type {\n",
              "        vertical-align: middle;\n",
              "    }\n",
              "\n",
              "    .dataframe tbody tr th {\n",
              "        vertical-align: top;\n",
              "    }\n",
              "\n",
              "    .dataframe thead th {\n",
              "        text-align: right;\n",
              "    }\n",
              "</style>\n",
              "<table border=\"1\" class=\"dataframe\">\n",
              "  <thead>\n",
              "    <tr style=\"text-align: right;\">\n",
              "      <th></th>\n",
              "      <th>2013-01-01</th>\n",
              "      <th>2013-01-02</th>\n",
              "      <th>2013-01-03</th>\n",
              "      <th>2013-01-04</th>\n",
              "      <th>2013-01-05</th>\n",
              "      <th>2013-01-06</th>\n",
              "    </tr>\n",
              "  </thead>\n",
              "  <tbody>\n",
              "    <tr>\n",
              "      <th>A</th>\n",
              "      <td>-1.895350</td>\n",
              "      <td>-0.158133</td>\n",
              "      <td>1.625289</td>\n",
              "      <td>0.372872</td>\n",
              "      <td>0.803751</td>\n",
              "      <td>-0.966359</td>\n",
              "    </tr>\n",
              "    <tr>\n",
              "      <th>B</th>\n",
              "      <td>-1.409410</td>\n",
              "      <td>-0.755161</td>\n",
              "      <td>0.705395</td>\n",
              "      <td>0.613411</td>\n",
              "      <td>0.994333</td>\n",
              "      <td>-1.414002</td>\n",
              "    </tr>\n",
              "    <tr>\n",
              "      <th>C</th>\n",
              "      <td>0.066747</td>\n",
              "      <td>0.674431</td>\n",
              "      <td>2.319068</td>\n",
              "      <td>-1.225106</td>\n",
              "      <td>-0.000584</td>\n",
              "      <td>-0.522122</td>\n",
              "    </tr>\n",
              "    <tr>\n",
              "      <th>D</th>\n",
              "      <td>0.534467</td>\n",
              "      <td>1.095966</td>\n",
              "      <td>-1.227825</td>\n",
              "      <td>1.124325</td>\n",
              "      <td>-0.587496</td>\n",
              "      <td>-0.526534</td>\n",
              "    </tr>\n",
              "  </tbody>\n",
              "</table>\n",
              "</div>"
            ],
            "text/plain": [
              "   2013-01-01  2013-01-02  2013-01-03  2013-01-04  2013-01-05  2013-01-06\n",
              "A   -1.895350   -0.158133    1.625289    0.372872    0.803751   -0.966359\n",
              "B   -1.409410   -0.755161    0.705395    0.613411    0.994333   -1.414002\n",
              "C    0.066747    0.674431    2.319068   -1.225106   -0.000584   -0.522122\n",
              "D    0.534467    1.095966   -1.227825    1.124325   -0.587496   -0.526534"
            ]
          },
          "metadata": {
            "tags": []
          },
          "execution_count": 13
        }
      ]
    },
    {
      "cell_type": "code",
      "metadata": {
        "id": "AQ9_7yDx6dVV",
        "outputId": "698761d0-5540-463c-f67e-ddf13fc0c274",
        "colab": {
          "base_uri": "https://localhost:8080/",
          "height": 235
        }
      },
      "source": [
        "df.sort_index(axis=1, ascending=False)"
      ],
      "execution_count": 14,
      "outputs": [
        {
          "output_type": "execute_result",
          "data": {
            "text/html": [
              "<div>\n",
              "<style scoped>\n",
              "    .dataframe tbody tr th:only-of-type {\n",
              "        vertical-align: middle;\n",
              "    }\n",
              "\n",
              "    .dataframe tbody tr th {\n",
              "        vertical-align: top;\n",
              "    }\n",
              "\n",
              "    .dataframe thead th {\n",
              "        text-align: right;\n",
              "    }\n",
              "</style>\n",
              "<table border=\"1\" class=\"dataframe\">\n",
              "  <thead>\n",
              "    <tr style=\"text-align: right;\">\n",
              "      <th></th>\n",
              "      <th>D</th>\n",
              "      <th>C</th>\n",
              "      <th>B</th>\n",
              "      <th>A</th>\n",
              "    </tr>\n",
              "  </thead>\n",
              "  <tbody>\n",
              "    <tr>\n",
              "      <th>2013-01-01</th>\n",
              "      <td>0.534467</td>\n",
              "      <td>0.066747</td>\n",
              "      <td>-1.409410</td>\n",
              "      <td>-1.895350</td>\n",
              "    </tr>\n",
              "    <tr>\n",
              "      <th>2013-01-02</th>\n",
              "      <td>1.095966</td>\n",
              "      <td>0.674431</td>\n",
              "      <td>-0.755161</td>\n",
              "      <td>-0.158133</td>\n",
              "    </tr>\n",
              "    <tr>\n",
              "      <th>2013-01-03</th>\n",
              "      <td>-1.227825</td>\n",
              "      <td>2.319068</td>\n",
              "      <td>0.705395</td>\n",
              "      <td>1.625289</td>\n",
              "    </tr>\n",
              "    <tr>\n",
              "      <th>2013-01-04</th>\n",
              "      <td>1.124325</td>\n",
              "      <td>-1.225106</td>\n",
              "      <td>0.613411</td>\n",
              "      <td>0.372872</td>\n",
              "    </tr>\n",
              "    <tr>\n",
              "      <th>2013-01-05</th>\n",
              "      <td>-0.587496</td>\n",
              "      <td>-0.000584</td>\n",
              "      <td>0.994333</td>\n",
              "      <td>0.803751</td>\n",
              "    </tr>\n",
              "    <tr>\n",
              "      <th>2013-01-06</th>\n",
              "      <td>-0.526534</td>\n",
              "      <td>-0.522122</td>\n",
              "      <td>-1.414002</td>\n",
              "      <td>-0.966359</td>\n",
              "    </tr>\n",
              "  </tbody>\n",
              "</table>\n",
              "</div>"
            ],
            "text/plain": [
              "                   D         C         B         A\n",
              "2013-01-01  0.534467  0.066747 -1.409410 -1.895350\n",
              "2013-01-02  1.095966  0.674431 -0.755161 -0.158133\n",
              "2013-01-03 -1.227825  2.319068  0.705395  1.625289\n",
              "2013-01-04  1.124325 -1.225106  0.613411  0.372872\n",
              "2013-01-05 -0.587496 -0.000584  0.994333  0.803751\n",
              "2013-01-06 -0.526534 -0.522122 -1.414002 -0.966359"
            ]
          },
          "metadata": {
            "tags": []
          },
          "execution_count": 14
        }
      ]
    },
    {
      "cell_type": "code",
      "metadata": {
        "id": "Zmg24n4R6fdk",
        "outputId": "91a7b5ba-af5d-4ebd-b785-82b3498423cc",
        "colab": {
          "base_uri": "https://localhost:8080/",
          "height": 235
        }
      },
      "source": [
        "df.sort_values(by='B')"
      ],
      "execution_count": 15,
      "outputs": [
        {
          "output_type": "execute_result",
          "data": {
            "text/html": [
              "<div>\n",
              "<style scoped>\n",
              "    .dataframe tbody tr th:only-of-type {\n",
              "        vertical-align: middle;\n",
              "    }\n",
              "\n",
              "    .dataframe tbody tr th {\n",
              "        vertical-align: top;\n",
              "    }\n",
              "\n",
              "    .dataframe thead th {\n",
              "        text-align: right;\n",
              "    }\n",
              "</style>\n",
              "<table border=\"1\" class=\"dataframe\">\n",
              "  <thead>\n",
              "    <tr style=\"text-align: right;\">\n",
              "      <th></th>\n",
              "      <th>A</th>\n",
              "      <th>B</th>\n",
              "      <th>C</th>\n",
              "      <th>D</th>\n",
              "    </tr>\n",
              "  </thead>\n",
              "  <tbody>\n",
              "    <tr>\n",
              "      <th>2013-01-06</th>\n",
              "      <td>-0.966359</td>\n",
              "      <td>-1.414002</td>\n",
              "      <td>-0.522122</td>\n",
              "      <td>-0.526534</td>\n",
              "    </tr>\n",
              "    <tr>\n",
              "      <th>2013-01-01</th>\n",
              "      <td>-1.895350</td>\n",
              "      <td>-1.409410</td>\n",
              "      <td>0.066747</td>\n",
              "      <td>0.534467</td>\n",
              "    </tr>\n",
              "    <tr>\n",
              "      <th>2013-01-02</th>\n",
              "      <td>-0.158133</td>\n",
              "      <td>-0.755161</td>\n",
              "      <td>0.674431</td>\n",
              "      <td>1.095966</td>\n",
              "    </tr>\n",
              "    <tr>\n",
              "      <th>2013-01-04</th>\n",
              "      <td>0.372872</td>\n",
              "      <td>0.613411</td>\n",
              "      <td>-1.225106</td>\n",
              "      <td>1.124325</td>\n",
              "    </tr>\n",
              "    <tr>\n",
              "      <th>2013-01-03</th>\n",
              "      <td>1.625289</td>\n",
              "      <td>0.705395</td>\n",
              "      <td>2.319068</td>\n",
              "      <td>-1.227825</td>\n",
              "    </tr>\n",
              "    <tr>\n",
              "      <th>2013-01-05</th>\n",
              "      <td>0.803751</td>\n",
              "      <td>0.994333</td>\n",
              "      <td>-0.000584</td>\n",
              "      <td>-0.587496</td>\n",
              "    </tr>\n",
              "  </tbody>\n",
              "</table>\n",
              "</div>"
            ],
            "text/plain": [
              "                   A         B         C         D\n",
              "2013-01-06 -0.966359 -1.414002 -0.522122 -0.526534\n",
              "2013-01-01 -1.895350 -1.409410  0.066747  0.534467\n",
              "2013-01-02 -0.158133 -0.755161  0.674431  1.095966\n",
              "2013-01-04  0.372872  0.613411 -1.225106  1.124325\n",
              "2013-01-03  1.625289  0.705395  2.319068 -1.227825\n",
              "2013-01-05  0.803751  0.994333 -0.000584 -0.587496"
            ]
          },
          "metadata": {
            "tags": []
          },
          "execution_count": 15
        }
      ]
    },
    {
      "cell_type": "code",
      "metadata": {
        "id": "rEc6YiXo6hro",
        "outputId": "2f5e6598-a4c8-4580-de3c-63c368f7edfb",
        "colab": {
          "base_uri": "https://localhost:8080/",
          "height": 136
        }
      },
      "source": [
        "df['A']"
      ],
      "execution_count": 16,
      "outputs": [
        {
          "output_type": "execute_result",
          "data": {
            "text/plain": [
              "2013-01-01   -1.895350\n",
              "2013-01-02   -0.158133\n",
              "2013-01-03    1.625289\n",
              "2013-01-04    0.372872\n",
              "2013-01-05    0.803751\n",
              "2013-01-06   -0.966359\n",
              "Freq: D, Name: A, dtype: float64"
            ]
          },
          "metadata": {
            "tags": []
          },
          "execution_count": 16
        }
      ]
    },
    {
      "cell_type": "code",
      "metadata": {
        "id": "T50oS_rQ6n6s",
        "outputId": "dbe7d3a9-bb59-4848-b5ee-c8b062414238",
        "colab": {
          "base_uri": "https://localhost:8080/",
          "height": 142
        }
      },
      "source": [
        "df[0:3]"
      ],
      "execution_count": 17,
      "outputs": [
        {
          "output_type": "execute_result",
          "data": {
            "text/html": [
              "<div>\n",
              "<style scoped>\n",
              "    .dataframe tbody tr th:only-of-type {\n",
              "        vertical-align: middle;\n",
              "    }\n",
              "\n",
              "    .dataframe tbody tr th {\n",
              "        vertical-align: top;\n",
              "    }\n",
              "\n",
              "    .dataframe thead th {\n",
              "        text-align: right;\n",
              "    }\n",
              "</style>\n",
              "<table border=\"1\" class=\"dataframe\">\n",
              "  <thead>\n",
              "    <tr style=\"text-align: right;\">\n",
              "      <th></th>\n",
              "      <th>A</th>\n",
              "      <th>B</th>\n",
              "      <th>C</th>\n",
              "      <th>D</th>\n",
              "    </tr>\n",
              "  </thead>\n",
              "  <tbody>\n",
              "    <tr>\n",
              "      <th>2013-01-01</th>\n",
              "      <td>-1.895350</td>\n",
              "      <td>-1.409410</td>\n",
              "      <td>0.066747</td>\n",
              "      <td>0.534467</td>\n",
              "    </tr>\n",
              "    <tr>\n",
              "      <th>2013-01-02</th>\n",
              "      <td>-0.158133</td>\n",
              "      <td>-0.755161</td>\n",
              "      <td>0.674431</td>\n",
              "      <td>1.095966</td>\n",
              "    </tr>\n",
              "    <tr>\n",
              "      <th>2013-01-03</th>\n",
              "      <td>1.625289</td>\n",
              "      <td>0.705395</td>\n",
              "      <td>2.319068</td>\n",
              "      <td>-1.227825</td>\n",
              "    </tr>\n",
              "  </tbody>\n",
              "</table>\n",
              "</div>"
            ],
            "text/plain": [
              "                   A         B         C         D\n",
              "2013-01-01 -1.895350 -1.409410  0.066747  0.534467\n",
              "2013-01-02 -0.158133 -0.755161  0.674431  1.095966\n",
              "2013-01-03  1.625289  0.705395  2.319068 -1.227825"
            ]
          },
          "metadata": {
            "tags": []
          },
          "execution_count": 17
        }
      ]
    },
    {
      "cell_type": "code",
      "metadata": {
        "id": "YQpsPu9S6q3A",
        "outputId": "b960bb97-206a-49fe-dcb3-4b161c5720c3",
        "colab": {
          "base_uri": "https://localhost:8080/",
          "height": 142
        }
      },
      "source": [
        "df['20130102':'20130104']"
      ],
      "execution_count": 18,
      "outputs": [
        {
          "output_type": "execute_result",
          "data": {
            "text/html": [
              "<div>\n",
              "<style scoped>\n",
              "    .dataframe tbody tr th:only-of-type {\n",
              "        vertical-align: middle;\n",
              "    }\n",
              "\n",
              "    .dataframe tbody tr th {\n",
              "        vertical-align: top;\n",
              "    }\n",
              "\n",
              "    .dataframe thead th {\n",
              "        text-align: right;\n",
              "    }\n",
              "</style>\n",
              "<table border=\"1\" class=\"dataframe\">\n",
              "  <thead>\n",
              "    <tr style=\"text-align: right;\">\n",
              "      <th></th>\n",
              "      <th>A</th>\n",
              "      <th>B</th>\n",
              "      <th>C</th>\n",
              "      <th>D</th>\n",
              "    </tr>\n",
              "  </thead>\n",
              "  <tbody>\n",
              "    <tr>\n",
              "      <th>2013-01-02</th>\n",
              "      <td>-0.158133</td>\n",
              "      <td>-0.755161</td>\n",
              "      <td>0.674431</td>\n",
              "      <td>1.095966</td>\n",
              "    </tr>\n",
              "    <tr>\n",
              "      <th>2013-01-03</th>\n",
              "      <td>1.625289</td>\n",
              "      <td>0.705395</td>\n",
              "      <td>2.319068</td>\n",
              "      <td>-1.227825</td>\n",
              "    </tr>\n",
              "    <tr>\n",
              "      <th>2013-01-04</th>\n",
              "      <td>0.372872</td>\n",
              "      <td>0.613411</td>\n",
              "      <td>-1.225106</td>\n",
              "      <td>1.124325</td>\n",
              "    </tr>\n",
              "  </tbody>\n",
              "</table>\n",
              "</div>"
            ],
            "text/plain": [
              "                   A         B         C         D\n",
              "2013-01-02 -0.158133 -0.755161  0.674431  1.095966\n",
              "2013-01-03  1.625289  0.705395  2.319068 -1.227825\n",
              "2013-01-04  0.372872  0.613411 -1.225106  1.124325"
            ]
          },
          "metadata": {
            "tags": []
          },
          "execution_count": 18
        }
      ]
    }
  ]
}