{
  "nbformat": 4,
  "nbformat_minor": 0,
  "metadata": {
    "colab": {
      "name": "4_廻圈loop.ipynb",
      "provenance": []
    },
    "kernelspec": {
      "name": "python3",
      "display_name": "Python 3"
    }
  },
  "cells": [
    {
      "cell_type": "code",
      "metadata": {
        "id": "q2gAJiV7ZJR9",
        "outputId": "d745149b-d476-4962-97d9-5ea3f2069eea",
        "colab": {
          "base_uri": "https://localhost:8080/",
          "height": 51
        }
      },
      "source": [
        "list1=range(10)\n",
        "print(list1)\n",
        "\n",
        "print(list(list1))"
      ],
      "execution_count": null,
      "outputs": [
        {
          "output_type": "stream",
          "text": [
            "range(0, 10)\n",
            "[0, 1, 2, 3, 4, 5, 6, 7, 8, 9]\n"
          ],
          "name": "stdout"
        }
      ]
    },
    {
      "cell_type": "code",
      "metadata": {
        "id": "sj4DteImjvA6",
        "outputId": "b7ec32de-38ff-4fd6-877e-e77dbb5b6f40",
        "colab": {
          "base_uri": "https://localhost:8080/",
          "height": 34
        }
      },
      "source": [
        "list2=range(-4,5)\n",
        "print(list(list2))"
      ],
      "execution_count": null,
      "outputs": [
        {
          "output_type": "stream",
          "text": [
            "[-4, -3, -2, -1, 0, 1, 2, 3, 4]\n"
          ],
          "name": "stdout"
        }
      ]
    },
    {
      "cell_type": "code",
      "metadata": {
        "id": "6wm33bKpjwim",
        "outputId": "e7fb126d-34ad-40f9-b22d-9ab5ddee8536",
        "colab": {
          "base_uri": "https://localhost:8080/",
          "height": 34
        }
      },
      "source": [
        "list3=range(-4,5,2)\n",
        "print(list(list3))"
      ],
      "execution_count": null,
      "outputs": [
        {
          "output_type": "stream",
          "text": [
            "[-4, -2, 0, 2, 4]\n"
          ],
          "name": "stdout"
        }
      ]
    },
    {
      "cell_type": "code",
      "metadata": {
        "id": "tr1VM1pUj3My",
        "outputId": "01bcee44-f426-469a-99db-36ce7aa57bab",
        "colab": {
          "base_uri": "https://localhost:8080/",
          "height": 34
        }
      },
      "source": [
        "list4=range(-4,6,2)\n",
        "print(list(list4))"
      ],
      "execution_count": null,
      "outputs": [
        {
          "output_type": "stream",
          "text": [
            "[-4, -2, 0, 2, 4]\n"
          ],
          "name": "stdout"
        }
      ]
    },
    {
      "cell_type": "code",
      "metadata": {
        "id": "tkjN--2pj59A",
        "outputId": "25251b0e-1cd1-4d37-e317-f1658d3dad9f",
        "colab": {
          "base_uri": "https://localhost:8080/",
          "height": 102
        }
      },
      "source": [
        "for n in range(5):\n",
        "  print(n)"
      ],
      "execution_count": null,
      "outputs": [
        {
          "output_type": "stream",
          "text": [
            "0\n",
            "1\n",
            "2\n",
            "3\n",
            "4\n"
          ],
          "name": "stdout"
        }
      ]
    },
    {
      "cell_type": "code",
      "metadata": {
        "id": "CY6as2yZkKmv",
        "outputId": "03b271b0-e3df-4616-c555-73d82d593c43",
        "colab": {
          "base_uri": "https://localhost:8080/",
          "height": 34
        }
      },
      "source": [
        "for n in range(10):\n",
        "    print(n, end='@')\n",
        "\n",
        "    #print(n, end='%%%%')"
      ],
      "execution_count": null,
      "outputs": [
        {
          "output_type": "stream",
          "text": [
            "0@1@2@3@4@5@6@7@8@9@"
          ],
          "name": "stdout"
        }
      ]
    },
    {
      "cell_type": "code",
      "metadata": {
        "id": "D2aStbtpnK3z",
        "outputId": "19bdef1c-1ba3-428b-962d-e3ca80e30bf5",
        "colab": {
          "base_uri": "https://localhost:8080/",
          "height": 102
        }
      },
      "source": [
        "mysum = 0\n",
        "\n",
        "for n in range(5):\n",
        "  mysum += n\n",
        "  print(mysum)"
      ],
      "execution_count": null,
      "outputs": [
        {
          "output_type": "stream",
          "text": [
            "0\n",
            "1\n",
            "3\n",
            "6\n",
            "10\n"
          ],
          "name": "stdout"
        }
      ]
    },
    {
      "cell_type": "code",
      "metadata": {
        "id": "oID3Tp_1nMLu",
        "outputId": "a81632e2-43bd-4065-8e74-b259871d6c24",
        "colab": {
          "base_uri": "https://localhost:8080/",
          "height": 34
        }
      },
      "source": [
        "mysum = 0\n",
        "\n",
        "for n in range(5):\n",
        "  mysum += n\n",
        "\n",
        "print(mysum)\n"
      ],
      "execution_count": null,
      "outputs": [
        {
          "output_type": "stream",
          "text": [
            "10\n"
          ],
          "name": "stdout"
        }
      ]
    },
    {
      "cell_type": "code",
      "metadata": {
        "id": "DAgycliinQNR",
        "outputId": "116db061-6947-4ed3-d822-b8daa764dfa8",
        "colab": {
          "base_uri": "https://localhost:8080/",
          "height": 51
        }
      },
      "source": [
        "x = int(input(\"請輸入一個正整數:\"))\n",
        "mysum = 0\n",
        "\n",
        "for n in range(x):\n",
        "  mysum += n\n",
        "\n",
        "print(mysum)"
      ],
      "execution_count": null,
      "outputs": [
        {
          "output_type": "stream",
          "text": [
            "請輸入一個正整數:5\n",
            "10\n"
          ],
          "name": "stdout"
        }
      ]
    },
    {
      "cell_type": "code",
      "metadata": {
        "id": "KBuAHxZnnVjh",
        "outputId": "421790e1-f0c3-4f5a-9cb4-e3f6b4f9630c",
        "colab": {
          "base_uri": "https://localhost:8080/",
          "height": 34
        }
      },
      "source": [
        "numbers = [21, 4, 35, 1, 8, 7, 3, 6, 9]\n",
        "my_numbers = []\n",
        "\n",
        "for number in numbers:\n",
        "  if (number % 2 != 0): \n",
        "    my_numbers.append(number)\n",
        "\n",
        "print(my_numbers)"
      ],
      "execution_count": null,
      "outputs": [
        {
          "output_type": "stream",
          "text": [
            "[21, 35, 1, 7, 3, 9]\n"
          ],
          "name": "stdout"
        }
      ]
    },
    {
      "cell_type": "code",
      "metadata": {
        "id": "UbrHvNrnnbqB",
        "outputId": "beb3c1f8-b51b-462e-f468-0006196bca06",
        "colab": {
          "base_uri": "https://localhost:8080/",
          "height": 51
        }
      },
      "source": [
        "total = i = 1\n",
        "\n",
        "n = int(input(\"請輸入正整數 n 的值：\"))\n",
        "\n",
        "while(i<=n):\n",
        "    total *= i  \n",
        "    i+=1      \n",
        "\n",
        "print(\"%d!=%d\" % (n, total))"
      ],
      "execution_count": null,
      "outputs": [
        {
          "output_type": "stream",
          "text": [
            "請輸入正整數 n 的值：15\n",
            "15!=1307674368000\n"
          ],
          "name": "stdout"
        }
      ]
    },
    {
      "cell_type": "code",
      "metadata": {
        "id": "zu5SNo1mnuSi",
        "outputId": "1cc19a73-4173-49e5-cf0f-c48c317602e9",
        "colab": {
          "base_uri": "https://localhost:8080/",
          "height": 226
        }
      },
      "source": [
        "fruits = [\"香蕉\",\"蘋果\",\"橘子\",\"鳳梨\",\"西瓜\"]\n",
        "\n",
        "while True:\n",
        "    fruit = input(\"請輸入喜歡的水果(Enter 結束)：\")\n",
        "\n",
        "  #  if (fruit==\"\"):\n",
        "  #      break\n",
        "\n",
        "    n = fruits.count(fruit) \n",
        "    if (n>0):  # 串列元素存在\n",
        "        p=fruits.index(fruit)\n",
        "        print(\"%s 在串列中的第 %d 項\" %(fruit,p+1))\n",
        "    else:\n",
        "        print(fruit,\"不在串列中!\")"
      ],
      "execution_count": null,
      "outputs": [
        {
          "output_type": "stream",
          "text": [
            "請輸入喜歡的水果(Enter 結束)：\n",
            " 不在串列中!\n",
            "請輸入喜歡的水果(Enter 結束)：\n",
            " 不在串列中!\n",
            "請輸入喜歡的水果(Enter 結束)：西瓜\n",
            "西瓜 在串列中的第 5 項\n",
            "請輸入喜歡的水果(Enter 結束)：西瓜\n",
            "西瓜 在串列中的第 5 項\n",
            "請輸入喜歡的水果(Enter 結束)： \n",
            "  不在串列中!\n"
          ],
          "name": "stdout"
        }
      ]
    },
    {
      "cell_type": "code",
      "metadata": {
        "id": "Do4L_gwtn3H_",
        "outputId": "7af8ce5a-2610-46d0-992a-790bdc388f27",
        "colab": {
          "base_uri": "https://localhost:8080/",
          "height": 51
        }
      },
      "source": [
        "n = int(input(\"請輸入正整數：\"))\n",
        "\n",
        "for i in range(1, n+1):\n",
        "    if i % 5 ==0:\n",
        "        continue\n",
        "    print(i,end=\" \")"
      ],
      "execution_count": null,
      "outputs": [
        {
          "output_type": "stream",
          "text": [
            "請輸入正整數：14\n",
            "1 2 3 4 6 7 8 9 11 12 13 14 "
          ],
          "name": "stdout"
        }
      ]
    },
    {
      "cell_type": "code",
      "metadata": {
        "id": "s5eHDITIoSHR",
        "outputId": "fc0dbe8b-8422-4177-d6c7-132f3adb1232",
        "colab": {
          "base_uri": "https://localhost:8080/",
          "height": 1000
        }
      },
      "source": [
        "#!/usr/bin/python\n",
        "# -*- coding: UTF-8 -*-\n",
        " \n",
        "for i in range(1,6):\n",
        "    for j in range(1,5):\n",
        "        for k in range(1,7):\n",
        "            if( i != k ) and (i != j) and (j != k):\n",
        "                print(i,j,k)"
      ],
      "execution_count": null,
      "outputs": [
        {
          "output_type": "stream",
          "text": [
            "1 2 3\n",
            "1 2 4\n",
            "1 2 5\n",
            "1 2 6\n",
            "1 3 2\n",
            "1 3 4\n",
            "1 3 5\n",
            "1 3 6\n",
            "1 4 2\n",
            "1 4 3\n",
            "1 4 5\n",
            "1 4 6\n",
            "2 1 3\n",
            "2 1 4\n",
            "2 1 5\n",
            "2 1 6\n",
            "2 3 1\n",
            "2 3 4\n",
            "2 3 5\n",
            "2 3 6\n",
            "2 4 1\n",
            "2 4 3\n",
            "2 4 5\n",
            "2 4 6\n",
            "3 1 2\n",
            "3 1 4\n",
            "3 1 5\n",
            "3 1 6\n",
            "3 2 1\n",
            "3 2 4\n",
            "3 2 5\n",
            "3 2 6\n",
            "3 4 1\n",
            "3 4 2\n",
            "3 4 5\n",
            "3 4 6\n",
            "4 1 2\n",
            "4 1 3\n",
            "4 1 5\n",
            "4 1 6\n",
            "4 2 1\n",
            "4 2 3\n",
            "4 2 5\n",
            "4 2 6\n",
            "4 3 1\n",
            "4 3 2\n",
            "4 3 5\n",
            "4 3 6\n",
            "5 1 2\n",
            "5 1 3\n",
            "5 1 4\n",
            "5 1 6\n",
            "5 2 1\n",
            "5 2 3\n",
            "5 2 4\n",
            "5 2 6\n",
            "5 3 1\n",
            "5 3 2\n",
            "5 3 4\n",
            "5 3 6\n",
            "5 4 1\n",
            "5 4 2\n",
            "5 4 3\n",
            "5 4 6\n"
          ],
          "name": "stdout"
        }
      ]
    },
    {
      "cell_type": "code",
      "metadata": {
        "id": "b04BErmcohvX",
        "outputId": "de388a5b-a3dd-4192-e3dd-ab788fe5b57f",
        "colab": {
          "base_uri": "https://localhost:8080/",
          "height": 340
        }
      },
      "source": [
        "for x in range(19):\n",
        "  print(x)\n"
      ],
      "execution_count": null,
      "outputs": [
        {
          "output_type": "stream",
          "text": [
            "0\n",
            "1\n",
            "2\n",
            "3\n",
            "4\n",
            "5\n",
            "6\n",
            "7\n",
            "8\n",
            "9\n",
            "10\n",
            "11\n",
            "12\n",
            "13\n",
            "14\n",
            "15\n",
            "16\n",
            "17\n",
            "18\n"
          ],
          "name": "stdout"
        }
      ]
    },
    {
      "cell_type": "code",
      "metadata": {
        "id": "7bMhKu6PojjJ",
        "outputId": "b678c0a4-28d5-408a-db32-3f714219010e",
        "colab": {
          "base_uri": "https://localhost:8080/",
          "height": 187
        }
      },
      "source": [
        "for x in range(0,19,2):\n",
        "  print(x)"
      ],
      "execution_count": null,
      "outputs": [
        {
          "output_type": "stream",
          "text": [
            "0\n",
            "2\n",
            "4\n",
            "6\n",
            "8\n",
            "10\n",
            "12\n",
            "14\n",
            "16\n",
            "18\n"
          ],
          "name": "stdout"
        }
      ]
    },
    {
      "cell_type": "code",
      "metadata": {
        "id": "MI0HmZ7Jom4r",
        "outputId": "774e26a3-8a6e-4027-f40e-fb9946ed4790",
        "colab": {
          "base_uri": "https://localhost:8080/",
          "height": 170
        }
      },
      "source": [
        "for x in range(20,11,-1):\n",
        "  print(x)\n"
      ],
      "execution_count": null,
      "outputs": [
        {
          "output_type": "stream",
          "text": [
            "20\n",
            "19\n",
            "18\n",
            "17\n",
            "16\n",
            "15\n",
            "14\n",
            "13\n",
            "12\n"
          ],
          "name": "stdout"
        }
      ]
    },
    {
      "cell_type": "code",
      "metadata": {
        "id": "3w5D4_JZosPk"
      },
      "source": [
        "for x in range(0,19,-1):\n",
        "  print(x)"
      ],
      "execution_count": null,
      "outputs": []
    },
    {
      "cell_type": "code",
      "metadata": {
        "id": "ONUcozVOou0Z",
        "outputId": "ff3ecd76-4e88-4985-ca4e-d27afc27c860",
        "colab": {
          "base_uri": "https://localhost:8080/",
          "height": 34
        }
      },
      "source": [
        "output = ''\n",
        "\n",
        "for x in range(0,19,3):\n",
        "  output += str(x)\n",
        "  print(output, end=\" \")"
      ],
      "execution_count": null,
      "outputs": [
        {
          "output_type": "stream",
          "text": [
            "0 03 036 0369 036912 03691215 0369121518 "
          ],
          "name": "stdout"
        }
      ]
    },
    {
      "cell_type": "code",
      "metadata": {
        "id": "eYoZQNd1o2Vx",
        "outputId": "8b7cfc18-8e7a-4ac4-d99f-74635d203c02",
        "colab": {
          "base_uri": "https://localhost:8080/",
          "height": 34
        }
      },
      "source": [
        "output = ''\n",
        "\n",
        "for x in range(0,19,3):\n",
        "  print(x, end=\" \")"
      ],
      "execution_count": null,
      "outputs": [
        {
          "output_type": "stream",
          "text": [
            "0 3 6 9 12 15 18 "
          ],
          "name": "stdout"
        }
      ]
    },
    {
      "cell_type": "code",
      "metadata": {
        "id": "pvaf2FBCo5c0",
        "outputId": "badff09a-e14e-48a1-e7ca-20d72fea3a11",
        "colab": {
          "base_uri": "https://localhost:8080/",
          "height": 34
        }
      },
      "source": [
        "list1 = range(0,19,3)\n",
        "\n",
        "for x in list1:\n",
        "  print(x, end=\" \")"
      ],
      "execution_count": null,
      "outputs": [
        {
          "output_type": "stream",
          "text": [
            "0 3 6 9 12 15 18 "
          ],
          "name": "stdout"
        }
      ]
    },
    {
      "cell_type": "code",
      "metadata": {
        "id": "fl7NhNCvo6s1",
        "outputId": "bd085c67-77fe-4819-eed3-36c542f8bde8",
        "colab": {
          "base_uri": "https://localhost:8080/",
          "height": 68
        }
      },
      "source": [
        "#!/usr/bin/python\n",
        "# -*- coding: UTF-8 -*-\n",
        " \n",
        "i = int(input('淨利潤:'))\n",
        "\n",
        "arr = [1000000,600000,400000,200000,100000,0]\n",
        "rat = [0.01,0.015,0.03,0.05,0.075,0.1]\n",
        "r = 0\n",
        "\n",
        "for idx in range(0,6):\n",
        "    if i>arr[idx]:\n",
        "        r+=(i-arr[idx])*rat[idx]\n",
        "        print((i-arr[idx])*rat[idx])\n",
        "        i=arr[idx]\n",
        "\n",
        "print(r)"
      ],
      "execution_count": null,
      "outputs": [
        {
          "output_type": "stream",
          "text": [
            "淨利潤:5\n",
            "0.5\n",
            "0.5\n"
          ],
          "name": "stdout"
        }
      ]
    }
  ]
}